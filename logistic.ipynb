{
 "cells": [
  {
   "cell_type": "code",
   "execution_count": 2,
   "id": "c685e544-98f3-45c9-8adf-aed03e8912dd",
   "metadata": {},
   "outputs": [],
   "source": [
    "import numpy as np\n",
    "import matplotlib.pyplot as plt\n",
    "import pandas as pd\n",
    "import polars as pl\n",
    "import seaborn as sns\n",
    "from seaborn import set_style\n",
    "\n",
    "import os\n",
    "\n",
    "from datetime import datetime\n",
    "import time\n",
    "set_style(\"whitegrid\")"
   ]
  },
  {
   "cell_type": "code",
   "execution_count": 3,
   "id": "f1b62c1b-c92e-4d9b-b8fa-b0b15d06f650",
   "metadata": {},
   "outputs": [],
   "source": [
    "from features_dictionary import *"
   ]
  },
  {
   "cell_type": "code",
   "execution_count": 4,
   "id": "6461e7e1-a3e6-4765-b983-58c0507ced0c",
   "metadata": {},
   "outputs": [],
   "source": [
    "path_train_num = 'csv_files/train-num/'\n",
    "path_train_copy = 'csv_files/train - Copy/'"
   ]
  },
  {
   "cell_type": "code",
   "execution_count": 11,
   "id": "819900cc-6c3b-4174-9868-74d848e9fdf7",
   "metadata": {},
   "outputs": [],
   "source": [
    "FILES2 = os.listdir(path_train_num)\n",
    "FILES3 = [FILES2[3]] + FILES2[1:3] + FILES2[8:10]"
   ]
  },
  {
   "cell_type": "code",
   "execution_count": 12,
   "id": "49c8e9b6-669d-4ddc-8091-4448036c8ad3",
   "metadata": {},
   "outputs": [],
   "source": [
    "df = pd.read_csv(path_train_num + FILES3[0])"
   ]
  },
  {
   "cell_type": "code",
   "execution_count": 13,
   "id": "a1647893-5504-41c6-8b4f-2acbfab16c69",
   "metadata": {},
   "outputs": [],
   "source": [
    "df  = pd.read_csv(path_train_num + FILES3[0])\n",
    "df2 = pd.read_csv(path_train_num + FILES3[1])\n",
    "df3 = pd.read_csv(path_train_num + FILES3[2])\n",
    "df4 = pd.read_csv(path_train_num + FILES3[3])\n",
    "df5 = pd.read_csv(path_train_num + FILES3[4])"
   ]
  },
  {
   "cell_type": "code",
   "execution_count": 14,
   "id": "c2fbe861-62b9-4965-8ce4-fceba84f047f",
   "metadata": {},
   "outputs": [],
   "source": [
    "DF1 = pd.concat([df2,df3])"
   ]
  },
  {
   "cell_type": "code",
   "execution_count": 15,
   "id": "3ab14c19-8ae6-4173-9843-94ce37c1dd64",
   "metadata": {},
   "outputs": [],
   "source": [
    "DF2 = pd.concat([df4,df5])"
   ]
  },
  {
   "cell_type": "code",
   "execution_count": 16,
   "id": "f4d29c4b-a3a3-4c7e-ab38-2d4a6b16ae54",
   "metadata": {},
   "outputs": [],
   "source": [
    "df6 = df.merge(DF1, on='case_id', how='left')"
   ]
  },
  {
   "cell_type": "code",
   "execution_count": 17,
   "id": "ae87fb68-f375-42df-b180-574b1eaaae5a",
   "metadata": {},
   "outputs": [],
   "source": [
    "df7 = df6.merge(DF2, on='case_id', how='left')"
   ]
  },
  {
   "cell_type": "code",
   "execution_count": 18,
   "id": "7e48b22f-fedd-430b-af6b-a3fd219d395d",
   "metadata": {},
   "outputs": [],
   "source": [
    "df8 = df7.dropna()"
   ]
  },
  {
   "cell_type": "code",
   "execution_count": 19,
   "id": "8f9a1501-d4aa-4027-8ec9-40e54546002e",
   "metadata": {},
   "outputs": [],
   "source": [
    "df8.to_csv(path_train_num + 'nums_only.csv', index=False)"
   ]
  },
  {
   "cell_type": "code",
   "execution_count": 20,
   "id": "25d51dd5-e923-4160-bcbb-d538aa18aefc",
   "metadata": {},
   "outputs": [
    {
     "data": {
      "text/html": [
       "<div>\n",
       "<style scoped>\n",
       "    .dataframe tbody tr th:only-of-type {\n",
       "        vertical-align: middle;\n",
       "    }\n",
       "\n",
       "    .dataframe tbody tr th {\n",
       "        vertical-align: top;\n",
       "    }\n",
       "\n",
       "    .dataframe thead th {\n",
       "        text-align: right;\n",
       "    }\n",
       "</style>\n",
       "<table border=\"1\" class=\"dataframe\">\n",
       "  <thead>\n",
       "    <tr style=\"text-align: right;\">\n",
       "      <th></th>\n",
       "      <th>case_id</th>\n",
       "      <th>date_decision</th>\n",
       "      <th>MONTH</th>\n",
       "      <th>WEEK_NUM</th>\n",
       "      <th>target</th>\n",
       "      <th>actualdpd_943P</th>\n",
       "      <th>annuity_853A</th>\n",
       "      <th>credacc_credlmt_575A</th>\n",
       "      <th>credamount_590A</th>\n",
       "      <th>downpmt_134A</th>\n",
       "      <th>...</th>\n",
       "      <th>credamount_770A</th>\n",
       "      <th>currdebt_22A</th>\n",
       "      <th>currdebtcredtyperange_828A</th>\n",
       "      <th>disbursedcredamount_1113A</th>\n",
       "      <th>downpmt_116A</th>\n",
       "      <th>posfpd10lastmonth_333P</th>\n",
       "      <th>posfpd30lastmonth_3976960P</th>\n",
       "      <th>posfstqpd30lastmonth_3976962P</th>\n",
       "      <th>totaldebt_9A</th>\n",
       "      <th>totalsettled_863A</th>\n",
       "    </tr>\n",
       "  </thead>\n",
       "  <tbody>\n",
       "    <tr>\n",
       "      <th>6</th>\n",
       "      <td>6</td>\n",
       "      <td>2019-01-03</td>\n",
       "      <td>201901</td>\n",
       "      <td>0</td>\n",
       "      <td>0</td>\n",
       "      <td>0.0</td>\n",
       "      <td>2357.933333</td>\n",
       "      <td>0.0</td>\n",
       "      <td>21786.666667</td>\n",
       "      <td>0.0</td>\n",
       "      <td>...</td>\n",
       "      <td>20000.0</td>\n",
       "      <td>0.0</td>\n",
       "      <td>0.0</td>\n",
       "      <td>20000.0</td>\n",
       "      <td>0.0</td>\n",
       "      <td>0.0</td>\n",
       "      <td>0.0</td>\n",
       "      <td>0.0</td>\n",
       "      <td>0.0</td>\n",
       "      <td>0.0</td>\n",
       "    </tr>\n",
       "    <tr>\n",
       "      <th>10</th>\n",
       "      <td>10</td>\n",
       "      <td>2019-01-03</td>\n",
       "      <td>201901</td>\n",
       "      <td>0</td>\n",
       "      <td>0</td>\n",
       "      <td>0.0</td>\n",
       "      <td>10916.601000</td>\n",
       "      <td>0.0</td>\n",
       "      <td>100000.000000</td>\n",
       "      <td>0.0</td>\n",
       "      <td>...</td>\n",
       "      <td>100000.0</td>\n",
       "      <td>0.0</td>\n",
       "      <td>0.0</td>\n",
       "      <td>100000.0</td>\n",
       "      <td>0.0</td>\n",
       "      <td>0.0</td>\n",
       "      <td>0.0</td>\n",
       "      <td>0.0</td>\n",
       "      <td>0.0</td>\n",
       "      <td>0.0</td>\n",
       "    </tr>\n",
       "    <tr>\n",
       "      <th>13</th>\n",
       "      <td>13</td>\n",
       "      <td>2019-01-03</td>\n",
       "      <td>201901</td>\n",
       "      <td>0</td>\n",
       "      <td>0</td>\n",
       "      <td>0.0</td>\n",
       "      <td>4002.733433</td>\n",
       "      <td>0.0</td>\n",
       "      <td>33266.666667</td>\n",
       "      <td>240.0</td>\n",
       "      <td>...</td>\n",
       "      <td>44000.0</td>\n",
       "      <td>0.0</td>\n",
       "      <td>0.0</td>\n",
       "      <td>44000.0</td>\n",
       "      <td>0.0</td>\n",
       "      <td>0.0</td>\n",
       "      <td>0.0</td>\n",
       "      <td>0.0</td>\n",
       "      <td>0.0</td>\n",
       "      <td>0.0</td>\n",
       "    </tr>\n",
       "    <tr>\n",
       "      <th>14</th>\n",
       "      <td>14</td>\n",
       "      <td>2019-01-03</td>\n",
       "      <td>201901</td>\n",
       "      <td>0</td>\n",
       "      <td>0</td>\n",
       "      <td>0.0</td>\n",
       "      <td>2968.200000</td>\n",
       "      <td>0.0</td>\n",
       "      <td>14368.666667</td>\n",
       "      <td>0.0</td>\n",
       "      <td>...</td>\n",
       "      <td>20000.0</td>\n",
       "      <td>0.0</td>\n",
       "      <td>0.0</td>\n",
       "      <td>20000.0</td>\n",
       "      <td>0.0</td>\n",
       "      <td>0.0</td>\n",
       "      <td>0.0</td>\n",
       "      <td>0.0</td>\n",
       "      <td>0.0</td>\n",
       "      <td>12560.0</td>\n",
       "    </tr>\n",
       "    <tr>\n",
       "      <th>16</th>\n",
       "      <td>16</td>\n",
       "      <td>2019-01-03</td>\n",
       "      <td>201901</td>\n",
       "      <td>0</td>\n",
       "      <td>0</td>\n",
       "      <td>0.0</td>\n",
       "      <td>3847.600000</td>\n",
       "      <td>0.0</td>\n",
       "      <td>60000.000000</td>\n",
       "      <td>0.0</td>\n",
       "      <td>...</td>\n",
       "      <td>34000.0</td>\n",
       "      <td>0.0</td>\n",
       "      <td>0.0</td>\n",
       "      <td>34000.0</td>\n",
       "      <td>0.0</td>\n",
       "      <td>0.0</td>\n",
       "      <td>0.0</td>\n",
       "      <td>0.0</td>\n",
       "      <td>0.0</td>\n",
       "      <td>0.0</td>\n",
       "    </tr>\n",
       "  </tbody>\n",
       "</table>\n",
       "<p>5 rows × 23 columns</p>\n",
       "</div>"
      ],
      "text/plain": [
       "    case_id date_decision   MONTH  WEEK_NUM  target  actualdpd_943P  \\\n",
       "6         6    2019-01-03  201901         0       0             0.0   \n",
       "10       10    2019-01-03  201901         0       0             0.0   \n",
       "13       13    2019-01-03  201901         0       0             0.0   \n",
       "14       14    2019-01-03  201901         0       0             0.0   \n",
       "16       16    2019-01-03  201901         0       0             0.0   \n",
       "\n",
       "    annuity_853A  credacc_credlmt_575A  credamount_590A  downpmt_134A  ...  \\\n",
       "6    2357.933333                   0.0     21786.666667           0.0  ...   \n",
       "10  10916.601000                   0.0    100000.000000           0.0  ...   \n",
       "13   4002.733433                   0.0     33266.666667         240.0  ...   \n",
       "14   2968.200000                   0.0     14368.666667           0.0  ...   \n",
       "16   3847.600000                   0.0     60000.000000           0.0  ...   \n",
       "\n",
       "    credamount_770A  currdebt_22A  currdebtcredtyperange_828A  \\\n",
       "6           20000.0           0.0                         0.0   \n",
       "10         100000.0           0.0                         0.0   \n",
       "13          44000.0           0.0                         0.0   \n",
       "14          20000.0           0.0                         0.0   \n",
       "16          34000.0           0.0                         0.0   \n",
       "\n",
       "    disbursedcredamount_1113A  downpmt_116A  posfpd10lastmonth_333P  \\\n",
       "6                     20000.0           0.0                     0.0   \n",
       "10                   100000.0           0.0                     0.0   \n",
       "13                    44000.0           0.0                     0.0   \n",
       "14                    20000.0           0.0                     0.0   \n",
       "16                    34000.0           0.0                     0.0   \n",
       "\n",
       "    posfpd30lastmonth_3976960P  posfstqpd30lastmonth_3976962P  totaldebt_9A  \\\n",
       "6                          0.0                            0.0           0.0   \n",
       "10                         0.0                            0.0           0.0   \n",
       "13                         0.0                            0.0           0.0   \n",
       "14                         0.0                            0.0           0.0   \n",
       "16                         0.0                            0.0           0.0   \n",
       "\n",
       "    totalsettled_863A  \n",
       "6                 0.0  \n",
       "10                0.0  \n",
       "13                0.0  \n",
       "14            12560.0  \n",
       "16                0.0  \n",
       "\n",
       "[5 rows x 23 columns]"
      ]
     },
     "execution_count": 20,
     "metadata": {},
     "output_type": "execute_result"
    }
   ],
   "source": [
    "df8.head()"
   ]
  },
  {
   "cell_type": "code",
   "execution_count": 21,
   "id": "2ec14383-0782-4875-8e75-bb3940cc3bce",
   "metadata": {},
   "outputs": [],
   "source": [
    "from sklearn.linear_model import LogisticRegression\n",
    "from sklearn.metrics import roc_auc_score\n",
    "from sklearn.model_selection import train_test_split\n",
    "import numpy as np"
   ]
  },
  {
   "cell_type": "code",
   "execution_count": 22,
   "id": "d1f6e435-9c59-4ad3-b27f-989f36638d65",
   "metadata": {},
   "outputs": [],
   "source": [
    "log_model = LogisticRegression()"
   ]
  },
  {
   "cell_type": "code",
   "execution_count": 23,
   "id": "dc044944-6ac2-45fe-a62e-f1d2840aa4cd",
   "metadata": {},
   "outputs": [
    {
     "name": "stderr",
     "output_type": "stream",
     "text": [
      "C:\\Users\\blind\\anaconda\\Lib\\site-packages\\sklearn\\base.py:432: UserWarning: X has feature names, but LogisticRegression was fitted without feature names\n",
      "  warnings.warn(\n"
     ]
    },
    {
     "name": "stdout",
     "output_type": "stream",
     "text": [
      "0.5878612793028171\n"
     ]
    },
    {
     "name": "stderr",
     "output_type": "stream",
     "text": [
      "C:\\Users\\blind\\anaconda\\Lib\\site-packages\\sklearn\\base.py:432: UserWarning: X has feature names, but LogisticRegression was fitted without feature names\n",
      "  warnings.warn(\n"
     ]
    },
    {
     "name": "stdout",
     "output_type": "stream",
     "text": [
      "0.4959322760021756\n"
     ]
    },
    {
     "name": "stderr",
     "output_type": "stream",
     "text": [
      "C:\\Users\\blind\\anaconda\\Lib\\site-packages\\sklearn\\base.py:432: UserWarning: X has feature names, but LogisticRegression was fitted without feature names\n",
      "  warnings.warn(\n"
     ]
    },
    {
     "name": "stdout",
     "output_type": "stream",
     "text": [
      "0.4982775444618017\n"
     ]
    },
    {
     "name": "stderr",
     "output_type": "stream",
     "text": [
      "C:\\Users\\blind\\anaconda\\Lib\\site-packages\\sklearn\\base.py:432: UserWarning: X has feature names, but LogisticRegression was fitted without feature names\n",
      "  warnings.warn(\n"
     ]
    },
    {
     "name": "stdout",
     "output_type": "stream",
     "text": [
      "0.49295313039396593\n"
     ]
    },
    {
     "name": "stderr",
     "output_type": "stream",
     "text": [
      "C:\\Users\\blind\\anaconda\\Lib\\site-packages\\sklearn\\base.py:432: UserWarning: X has feature names, but LogisticRegression was fitted without feature names\n",
      "  warnings.warn(\n"
     ]
    },
    {
     "name": "stdout",
     "output_type": "stream",
     "text": [
      "0.5146359173871038\n"
     ]
    },
    {
     "name": "stderr",
     "output_type": "stream",
     "text": [
      "C:\\Users\\blind\\anaconda\\Lib\\site-packages\\sklearn\\base.py:432: UserWarning: X has feature names, but LogisticRegression was fitted without feature names\n",
      "  warnings.warn(\n"
     ]
    },
    {
     "name": "stdout",
     "output_type": "stream",
     "text": [
      "0.5456157968851283\n"
     ]
    },
    {
     "name": "stderr",
     "output_type": "stream",
     "text": [
      "C:\\Users\\blind\\anaconda\\Lib\\site-packages\\sklearn\\base.py:432: UserWarning: X has feature names, but LogisticRegression was fitted without feature names\n",
      "  warnings.warn(\n"
     ]
    },
    {
     "name": "stdout",
     "output_type": "stream",
     "text": [
      "0.5419713106204164\n"
     ]
    },
    {
     "name": "stderr",
     "output_type": "stream",
     "text": [
      "C:\\Users\\blind\\anaconda\\Lib\\site-packages\\sklearn\\base.py:432: UserWarning: X has feature names, but LogisticRegression was fitted without feature names\n",
      "  warnings.warn(\n"
     ]
    },
    {
     "name": "stdout",
     "output_type": "stream",
     "text": [
      "0.5040424942071133\n"
     ]
    },
    {
     "name": "stderr",
     "output_type": "stream",
     "text": [
      "C:\\Users\\blind\\anaconda\\Lib\\site-packages\\sklearn\\base.py:432: UserWarning: X has feature names, but LogisticRegression was fitted without feature names\n",
      "  warnings.warn(\n"
     ]
    },
    {
     "name": "stdout",
     "output_type": "stream",
     "text": [
      "0.5570533330518641\n",
      "0.48789751744074866\n"
     ]
    },
    {
     "name": "stderr",
     "output_type": "stream",
     "text": [
      "C:\\Users\\blind\\anaconda\\Lib\\site-packages\\sklearn\\base.py:432: UserWarning: X has feature names, but LogisticRegression was fitted without feature names\n",
      "  warnings.warn(\n"
     ]
    }
   ],
   "source": [
    "for i in range(10):\n",
    "    features = np.random.choice(df8.columns[5:], size=5, replace=False)\n",
    "    X = df8[features]\n",
    "    y = df8.target\n",
    "    X_train, X_test, y_train, y_test = train_test_split(X,y, shuffle=True, random_state=123, test_size=0.1, stratify=y)\n",
    "    log_model.fit(X_train.values,y_train.values)\n",
    "    a = log_model.predict_proba(X_test)\n",
    "    print(roc_auc_score(y_test, a[:,1]))"
   ]
  },
  {
   "cell_type": "code",
   "execution_count": null,
   "id": "88ee488d-52f5-4441-8c16-8824bf556bbc",
   "metadata": {},
   "outputs": [],
   "source": []
  }
 ],
 "metadata": {
  "kernelspec": {
   "display_name": "Python 3 (ipykernel)",
   "language": "python",
   "name": "python3"
  },
  "language_info": {
   "codemirror_mode": {
    "name": "ipython",
    "version": 3
   },
   "file_extension": ".py",
   "mimetype": "text/x-python",
   "name": "python",
   "nbconvert_exporter": "python",
   "pygments_lexer": "ipython3",
   "version": "3.11.7"
  }
 },
 "nbformat": 4,
 "nbformat_minor": 5
}
