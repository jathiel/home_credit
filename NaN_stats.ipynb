{
 "cells": [
  {
   "cell_type": "code",
   "execution_count": 4,
   "id": "2e1bf04d-a44b-487d-a729-9e04fbf8a4bf",
   "metadata": {},
   "outputs": [],
   "source": [
    "import numpy as np\n",
    "import matplotlib.pyplot as plt\n",
    "import pandas as pd\n",
    "import seaborn as sns"
   ]
  },
  {
   "cell_type": "code",
   "execution_count": 10,
   "id": "8c126b2a-b8fb-4b88-9e4d-c2642ef36b10",
   "metadata": {},
   "outputs": [],
   "source": [
    "df = pd.read_csv('C:\\\\Users\\\\blind\\\\OneDrive\\\\Documents\\\\GitHub\\\\home_credit_local\\\\NaN_stats.csv', header=None)"
   ]
  },
  {
   "cell_type": "code",
   "execution_count": 11,
   "id": "be6459f4-f816-4577-a791-da19015498c0",
   "metadata": {},
   "outputs": [
    {
     "data": {
      "text/html": [
       "<div>\n",
       "<style scoped>\n",
       "    .dataframe tbody tr th:only-of-type {\n",
       "        vertical-align: middle;\n",
       "    }\n",
       "\n",
       "    .dataframe tbody tr th {\n",
       "        vertical-align: top;\n",
       "    }\n",
       "\n",
       "    .dataframe thead th {\n",
       "        text-align: right;\n",
       "    }\n",
       "</style>\n",
       "<table border=\"1\" class=\"dataframe\">\n",
       "  <thead>\n",
       "    <tr style=\"text-align: right;\">\n",
       "      <th></th>\n",
       "      <th>0</th>\n",
       "      <th>1</th>\n",
       "      <th>2</th>\n",
       "      <th>3</th>\n",
       "    </tr>\n",
       "  </thead>\n",
       "  <tbody>\n",
       "    <tr>\n",
       "      <th>0</th>\n",
       "      <td>0</td>\n",
       "      <td>7633295</td>\n",
       "      <td>0.000000</td>\n",
       "      <td>train_base.csv</td>\n",
       "    </tr>\n",
       "    <tr>\n",
       "      <th>1</th>\n",
       "      <td>49311059</td>\n",
       "      <td>159395044</td>\n",
       "      <td>0.309364</td>\n",
       "      <td>train_applprev_1_0.csv</td>\n",
       "    </tr>\n",
       "    <tr>\n",
       "      <th>2</th>\n",
       "      <td>34503185</td>\n",
       "      <td>108170095</td>\n",
       "      <td>0.318972</td>\n",
       "      <td>train_applprev_1_1.csv</td>\n",
       "    </tr>\n",
       "    <tr>\n",
       "      <th>3</th>\n",
       "      <td>16236709</td>\n",
       "      <td>84452922</td>\n",
       "      <td>0.192258</td>\n",
       "      <td>train_applprev_2.csv</td>\n",
       "    </tr>\n",
       "    <tr>\n",
       "      <th>4</th>\n",
       "      <td>244050042</td>\n",
       "      <td>324548748</td>\n",
       "      <td>0.751967</td>\n",
       "      <td>train_credit_bureau_a_1_0.csv</td>\n",
       "    </tr>\n",
       "  </tbody>\n",
       "</table>\n",
       "</div>"
      ],
      "text/plain": [
       "           0          1         2                              3\n",
       "0          0    7633295  0.000000                 train_base.csv\n",
       "1   49311059  159395044  0.309364         train_applprev_1_0.csv\n",
       "2   34503185  108170095  0.318972         train_applprev_1_1.csv\n",
       "3   16236709   84452922  0.192258           train_applprev_2.csv\n",
       "4  244050042  324548748  0.751967  train_credit_bureau_a_1_0.csv"
      ]
     },
     "execution_count": 11,
     "metadata": {},
     "output_type": "execute_result"
    }
   ],
   "source": [
    "df.head()"
   ]
  },
  {
   "cell_type": "code",
   "execution_count": 12,
   "id": "431742cd-fa4b-4a1c-8b5a-3ddabc71bc44",
   "metadata": {},
   "outputs": [
    {
     "name": "stdout",
     "output_type": "stream",
     "text": [
      "<class 'pandas.core.frame.DataFrame'>\n",
      "RangeIndex: 32 entries, 0 to 31\n",
      "Data columns (total 4 columns):\n",
      " #   Column  Non-Null Count  Dtype  \n",
      "---  ------  --------------  -----  \n",
      " 0   0       32 non-null     int64  \n",
      " 1   1       32 non-null     int64  \n",
      " 2   2       32 non-null     float64\n",
      " 3   3       32 non-null     object \n",
      "dtypes: float64(1), int64(2), object(1)\n",
      "memory usage: 1.1+ KB\n"
     ]
    }
   ],
   "source": [
    "df.info()"
   ]
  },
  {
   "cell_type": "code",
   "execution_count": 17,
   "id": "e30cff23-31ee-4e82-b787-b7691ed75ee8",
   "metadata": {},
   "outputs": [
    {
     "data": {
      "text/plain": [
       "2330082388"
      ]
     },
     "execution_count": 17,
     "metadata": {},
     "output_type": "execute_result"
    }
   ],
   "source": [
    "df[0].sum()"
   ]
  },
  {
   "cell_type": "code",
   "execution_count": 18,
   "id": "f7a9066b-ddba-4d18-839c-a0454ec2528d",
   "metadata": {},
   "outputs": [
    {
     "data": {
      "text/plain": [
       "5712989129"
      ]
     },
     "execution_count": 18,
     "metadata": {},
     "output_type": "execute_result"
    }
   ],
   "source": [
    "df[1].sum()"
   ]
  },
  {
   "cell_type": "code",
   "execution_count": 19,
   "id": "4d278910-d3bd-40bd-8778-45bc00f035ed",
   "metadata": {},
   "outputs": [
    {
     "data": {
      "text/plain": [
       "0.4078569616336478"
      ]
     },
     "execution_count": 19,
     "metadata": {},
     "output_type": "execute_result"
    }
   ],
   "source": [
    "df[0].sum()/df[1].sum()"
   ]
  },
  {
   "cell_type": "code",
   "execution_count": null,
   "id": "15bb99de-6418-411d-96cc-beedcce3796a",
   "metadata": {},
   "outputs": [],
   "source": []
  }
 ],
 "metadata": {
  "kernelspec": {
   "display_name": "Python 3 (ipykernel)",
   "language": "python",
   "name": "python3"
  },
  "language_info": {
   "codemirror_mode": {
    "name": "ipython",
    "version": 3
   },
   "file_extension": ".py",
   "mimetype": "text/x-python",
   "name": "python",
   "nbconvert_exporter": "python",
   "pygments_lexer": "ipython3",
   "version": "3.11.7"
  }
 },
 "nbformat": 4,
 "nbformat_minor": 5
}
