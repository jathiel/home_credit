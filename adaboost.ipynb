{
 "cells": [
  {
   "cell_type": "code",
   "execution_count": 1,
   "id": "d54ba864",
   "metadata": {},
   "outputs": [],
   "source": [
    "import numpy as np\n",
    "import matplotlib.pyplot as plt\n",
    "import pandas as pd\n",
    "\n",
    "from sklearn.model_selection import train_test_split\n",
    "\n",
    "from sklearn.tree import DecisionTreeClassifier\n",
    "from sklearn import tree\n",
    "\n",
    "from sklearn.ensemble import AdaBoostClassifier\n",
    "from sklearn.metrics import roc_auc_score\n",
    "\n",
    "import time"
   ]
  },
  {
   "cell_type": "code",
   "execution_count": 2,
   "id": "73395d32",
   "metadata": {},
   "outputs": [],
   "source": [
    "df = pd.read_csv('master_data_file.csv')"
   ]
  },
  {
   "cell_type": "code",
   "execution_count": 5,
   "id": "f6668897-201b-4dfb-a1d6-261bb130c3a6",
   "metadata": {},
   "outputs": [
    {
     "data": {
      "text/html": [
       "<div>\n",
       "<style scoped>\n",
       "    .dataframe tbody tr th:only-of-type {\n",
       "        vertical-align: middle;\n",
       "    }\n",
       "\n",
       "    .dataframe tbody tr th {\n",
       "        vertical-align: top;\n",
       "    }\n",
       "\n",
       "    .dataframe thead th {\n",
       "        text-align: right;\n",
       "    }\n",
       "</style>\n",
       "<table border=\"1\" class=\"dataframe\">\n",
       "  <thead>\n",
       "    <tr style=\"text-align: right;\">\n",
       "      <th></th>\n",
       "      <th>case_id</th>\n",
       "      <th>date_decision</th>\n",
       "      <th>MONTH</th>\n",
       "      <th>WEEK_NUM</th>\n",
       "      <th>target</th>\n",
       "      <th>actualdpd_943P</th>\n",
       "      <th>actualdpdtolerance_344P</th>\n",
       "      <th>addres_district_368M</th>\n",
       "      <th>addres_role_871L</th>\n",
       "      <th>addres_zip_823M</th>\n",
       "      <th>...</th>\n",
       "      <th>totaldebtoverduevalue_178A</th>\n",
       "      <th>totaldebtoverduevalue_718A</th>\n",
       "      <th>totaloutstanddebtvalue_39A</th>\n",
       "      <th>totaloutstanddebtvalue_668A</th>\n",
       "      <th>totalsettled_863A</th>\n",
       "      <th>totinstallast1m_4525188A</th>\n",
       "      <th>twobodfilling_608L</th>\n",
       "      <th>type_25L</th>\n",
       "      <th>typesuite_864L</th>\n",
       "      <th>validfrom_1069D</th>\n",
       "    </tr>\n",
       "  </thead>\n",
       "  <tbody>\n",
       "    <tr>\n",
       "      <th>0</th>\n",
       "      <td>0</td>\n",
       "      <td>2019-01-03</td>\n",
       "      <td>201901</td>\n",
       "      <td>0</td>\n",
       "      <td>0</td>\n",
       "      <td>-1.0</td>\n",
       "      <td>-1</td>\n",
       "      <td>-1.0</td>\n",
       "      <td>-1.0</td>\n",
       "      <td>-1.0</td>\n",
       "      <td>...</td>\n",
       "      <td>-1.0</td>\n",
       "      <td>-1.0</td>\n",
       "      <td>-1.0</td>\n",
       "      <td>-1.0</td>\n",
       "      <td>1</td>\n",
       "      <td>-1</td>\n",
       "      <td>0</td>\n",
       "      <td>1</td>\n",
       "      <td>-1</td>\n",
       "      <td>-1</td>\n",
       "    </tr>\n",
       "    <tr>\n",
       "      <th>1</th>\n",
       "      <td>1</td>\n",
       "      <td>2019-01-03</td>\n",
       "      <td>201901</td>\n",
       "      <td>0</td>\n",
       "      <td>0</td>\n",
       "      <td>-1.0</td>\n",
       "      <td>-1</td>\n",
       "      <td>-1.0</td>\n",
       "      <td>-1.0</td>\n",
       "      <td>-1.0</td>\n",
       "      <td>...</td>\n",
       "      <td>-1.0</td>\n",
       "      <td>-1.0</td>\n",
       "      <td>-1.0</td>\n",
       "      <td>-1.0</td>\n",
       "      <td>1</td>\n",
       "      <td>-1</td>\n",
       "      <td>0</td>\n",
       "      <td>1</td>\n",
       "      <td>-1</td>\n",
       "      <td>-1</td>\n",
       "    </tr>\n",
       "    <tr>\n",
       "      <th>2</th>\n",
       "      <td>2</td>\n",
       "      <td>2019-01-04</td>\n",
       "      <td>201901</td>\n",
       "      <td>0</td>\n",
       "      <td>0</td>\n",
       "      <td>3.0</td>\n",
       "      <td>-1</td>\n",
       "      <td>-1.0</td>\n",
       "      <td>-1.0</td>\n",
       "      <td>-1.0</td>\n",
       "      <td>...</td>\n",
       "      <td>-1.0</td>\n",
       "      <td>-1.0</td>\n",
       "      <td>-1.0</td>\n",
       "      <td>-1.0</td>\n",
       "      <td>1</td>\n",
       "      <td>-1</td>\n",
       "      <td>0</td>\n",
       "      <td>0</td>\n",
       "      <td>0</td>\n",
       "      <td>-1</td>\n",
       "    </tr>\n",
       "    <tr>\n",
       "      <th>3</th>\n",
       "      <td>3</td>\n",
       "      <td>2019-01-03</td>\n",
       "      <td>201901</td>\n",
       "      <td>0</td>\n",
       "      <td>0</td>\n",
       "      <td>3.0</td>\n",
       "      <td>-1</td>\n",
       "      <td>-1.0</td>\n",
       "      <td>-1.0</td>\n",
       "      <td>-1.0</td>\n",
       "      <td>...</td>\n",
       "      <td>-1.0</td>\n",
       "      <td>-1.0</td>\n",
       "      <td>-1.0</td>\n",
       "      <td>-1.0</td>\n",
       "      <td>1</td>\n",
       "      <td>-1</td>\n",
       "      <td>0</td>\n",
       "      <td>1</td>\n",
       "      <td>0</td>\n",
       "      <td>-1</td>\n",
       "    </tr>\n",
       "    <tr>\n",
       "      <th>4</th>\n",
       "      <td>4</td>\n",
       "      <td>2019-01-04</td>\n",
       "      <td>201901</td>\n",
       "      <td>0</td>\n",
       "      <td>1</td>\n",
       "      <td>3.0</td>\n",
       "      <td>-1</td>\n",
       "      <td>-1.0</td>\n",
       "      <td>-1.0</td>\n",
       "      <td>-1.0</td>\n",
       "      <td>...</td>\n",
       "      <td>-1.0</td>\n",
       "      <td>-1.0</td>\n",
       "      <td>-1.0</td>\n",
       "      <td>-1.0</td>\n",
       "      <td>1</td>\n",
       "      <td>-1</td>\n",
       "      <td>0</td>\n",
       "      <td>1</td>\n",
       "      <td>0</td>\n",
       "      <td>-1</td>\n",
       "    </tr>\n",
       "  </tbody>\n",
       "</table>\n",
       "<p>5 rows × 469 columns</p>\n",
       "</div>"
      ],
      "text/plain": [
       "   case_id date_decision   MONTH  WEEK_NUM  target  actualdpd_943P  \\\n",
       "0        0    2019-01-03  201901         0       0            -1.0   \n",
       "1        1    2019-01-03  201901         0       0            -1.0   \n",
       "2        2    2019-01-04  201901         0       0             3.0   \n",
       "3        3    2019-01-03  201901         0       0             3.0   \n",
       "4        4    2019-01-04  201901         0       1             3.0   \n",
       "\n",
       "   actualdpdtolerance_344P  addres_district_368M  addres_role_871L  \\\n",
       "0                       -1                  -1.0              -1.0   \n",
       "1                       -1                  -1.0              -1.0   \n",
       "2                       -1                  -1.0              -1.0   \n",
       "3                       -1                  -1.0              -1.0   \n",
       "4                       -1                  -1.0              -1.0   \n",
       "\n",
       "   addres_zip_823M  ...  totaldebtoverduevalue_178A  \\\n",
       "0             -1.0  ...                        -1.0   \n",
       "1             -1.0  ...                        -1.0   \n",
       "2             -1.0  ...                        -1.0   \n",
       "3             -1.0  ...                        -1.0   \n",
       "4             -1.0  ...                        -1.0   \n",
       "\n",
       "   totaldebtoverduevalue_718A  totaloutstanddebtvalue_39A  \\\n",
       "0                        -1.0                        -1.0   \n",
       "1                        -1.0                        -1.0   \n",
       "2                        -1.0                        -1.0   \n",
       "3                        -1.0                        -1.0   \n",
       "4                        -1.0                        -1.0   \n",
       "\n",
       "   totaloutstanddebtvalue_668A  totalsettled_863A  totinstallast1m_4525188A  \\\n",
       "0                         -1.0                  1                        -1   \n",
       "1                         -1.0                  1                        -1   \n",
       "2                         -1.0                  1                        -1   \n",
       "3                         -1.0                  1                        -1   \n",
       "4                         -1.0                  1                        -1   \n",
       "\n",
       "   twobodfilling_608L  type_25L  typesuite_864L  validfrom_1069D  \n",
       "0                   0         1              -1               -1  \n",
       "1                   0         1              -1               -1  \n",
       "2                   0         0               0               -1  \n",
       "3                   0         1               0               -1  \n",
       "4                   0         1               0               -1  \n",
       "\n",
       "[5 rows x 469 columns]"
      ]
     },
     "execution_count": 5,
     "metadata": {},
     "output_type": "execute_result"
    }
   ],
   "source": [
    "df.head()"
   ]
  },
  {
   "cell_type": "code",
   "execution_count": 6,
   "id": "16a30e3a-0e60-4d52-9886-ed0d90ded9dc",
   "metadata": {},
   "outputs": [
    {
     "data": {
      "text/plain": [
       "(1526659, 469)"
      ]
     },
     "execution_count": 6,
     "metadata": {},
     "output_type": "execute_result"
    }
   ],
   "source": [
    "df.shape"
   ]
  },
  {
   "cell_type": "code",
   "execution_count": 7,
   "id": "e8da3d74",
   "metadata": {},
   "outputs": [],
   "source": [
    "df_week0 = df[df.WEEK_NUM ==0]"
   ]
  },
  {
   "cell_type": "code",
   "execution_count": 8,
   "id": "6924829d-40cb-4797-92b3-110f6019beb7",
   "metadata": {},
   "outputs": [],
   "source": [
    "features = df.columns[5:]"
   ]
  },
  {
   "cell_type": "code",
   "execution_count": 9,
   "id": "05b36caa-7cd7-4acf-b0b7-e3632bda60e8",
   "metadata": {},
   "outputs": [],
   "source": [
    "X_0 = df_week0[features]\n",
    "y_0 = df_week0.target"
   ]
  },
  {
   "cell_type": "code",
   "execution_count": 10,
   "id": "d1fe51da-dcb0-41f9-8fda-0085fd7af549",
   "metadata": {},
   "outputs": [],
   "source": [
    "X_0_train, X_0_test, y_0_train, y_0_test = train_test_split(X_0, y_0, shuffle=True, random_state=123, test_size=0.1, stratify=y_0)"
   ]
  },
  {
   "cell_type": "code",
   "execution_count": 11,
   "id": "e9da81a7-afc2-4ead-a47d-2c9b6ec902c6",
   "metadata": {},
   "outputs": [],
   "source": [
    "from sklearn.tree import DecisionTreeClassifier\n",
    "from sklearn import tree"
   ]
  },
  {
   "cell_type": "code",
   "execution_count": 12,
   "id": "c42606b1-99fc-4209-a77c-becdabc89f13",
   "metadata": {},
   "outputs": [],
   "source": [
    "main_feature = []\n",
    "\n",
    "for i in range(92):\n",
    "    clf = DecisionTreeClassifier(max_depth=2, random_state=123)\n",
    "    df_week = df[df.WEEK_NUM == i]\n",
    "    X = df_week[features]\n",
    "    y = df_week.target\n",
    "    X_train, X_test, y_train, y_test = train_test_split(X, y, shuffle=True, random_state=123, test_size=0.1, stratify=y)\n",
    "    clf.fit(X_train, y_train)\n",
    "    main_feature.append(int(tree.export_text(clf).split(' ')[1].split('_')[1]))"
   ]
  },
  {
   "cell_type": "code",
   "execution_count": 13,
   "id": "2dc85ba1-b439-463e-b4f9-2e12f98a2a22",
   "metadata": {},
   "outputs": [],
   "source": [
    "dict_features = {}\n",
    "for i in main_feature:\n",
    "    dict_features[i] = 1 + dict_features.get(i,0)"
   ]
  },
  {
   "cell_type": "code",
   "execution_count": 14,
   "id": "53ee4f30-5f87-4ded-ab18-96be9478ff6c",
   "metadata": {},
   "outputs": [
    {
     "data": {
      "text/plain": [
       "{243: 4,\n",
       " 33: 35,\n",
       " 41: 1,\n",
       " 45: 1,\n",
       " 361: 7,\n",
       " 116: 1,\n",
       " 117: 29,\n",
       " 362: 2,\n",
       " 262: 1,\n",
       " 379: 1,\n",
       " 149: 1,\n",
       " 337: 1,\n",
       " 81: 1,\n",
       " 120: 3,\n",
       " 367: 1,\n",
       " 119: 1,\n",
       " 123: 1,\n",
       " 359: 1}"
      ]
     },
     "execution_count": 14,
     "metadata": {},
     "output_type": "execute_result"
    }
   ],
   "source": [
    "dict_features"
   ]
  },
  {
   "cell_type": "code",
   "execution_count": 15,
   "id": "552ddd2b-a0e2-4fff-9fce-72a8ba96dcea",
   "metadata": {},
   "outputs": [
    {
     "data": {
      "text/plain": [
       "'assignmentdate_4527235D'"
      ]
     },
     "execution_count": 15,
     "metadata": {},
     "output_type": "execute_result"
    }
   ],
   "source": [
    "df_week.columns[33]"
   ]
  },
  {
   "cell_type": "code",
   "execution_count": 16,
   "id": "a22481a0-327e-4c81-8491-d8ffba7f20c2",
   "metadata": {},
   "outputs": [
    {
     "data": {
      "text/plain": [
       "'currdebt_22A'"
      ]
     },
     "execution_count": 16,
     "metadata": {},
     "output_type": "execute_result"
    }
   ],
   "source": [
    "df_week.columns[117]"
   ]
  },
  {
   "cell_type": "code",
   "execution_count": 21,
   "id": "b931bc6a-49ca-4a90-a922-7162dbc0ab2c",
   "metadata": {},
   "outputs": [],
   "source": [
    "ada_clf = AdaBoostClassifier(DecisionTreeClassifier(max_depth=3),\n",
    "                                n_estimators=200,\n",
    "                                algorithm = 'SAMME',\n",
    "                                learning_rate = 0.05,\n",
    "                                random_state=123)"
   ]
  },
  {
   "cell_type": "code",
   "execution_count": 22,
   "id": "1c7fbf5c-ed64-4842-a71a-ba3d2a52735f",
   "metadata": {},
   "outputs": [
    {
     "name": "stdout",
     "output_type": "stream",
     "text": [
      "Week: 0, Score: 0.714367156412611, Time: 0.41\n",
      "Week: 1, Score: 0.733839918946302, Time: 0.58\n",
      "Week: 2, Score: 0.6855399568375784, Time: 0.53\n",
      "Week: 3, Score: 0.7236031442532398, Time: 0.46\n",
      "Week: 4, Score: 0.6960459200660567, Time: 0.41\n"
     ]
    }
   ],
   "source": [
    "auc_list = []\n",
    "\n",
    "for i in range(5):\n",
    "    df_week = df[df.WEEK_NUM==i]\n",
    "\n",
    "    X = df_week[features]\n",
    "    y = df_week.target\n",
    "\n",
    "    X_train, X_test, y_train, y_test = train_test_split(X, y, shuffle=True, random_state=123, test_size=0.2, stratify=y)\n",
    "    y2_train = 2*y_train - 1\n",
    "    y2_test = 2*y_test - 1\n",
    "    a = time.time()\n",
    "    ada_clf.fit(X_train, y2_train)\n",
    "    preds = ada_clf.predict_proba(X_test)\n",
    "    score = roc_auc_score(y2_test, preds[:,1])\n",
    "    b = time.time()\n",
    "    print(f'Week: {i}, Score: {score}, Time: {round((b-a)/60,2)}')\n",
    "    auc_list.append(score)"
   ]
  },
  {
   "cell_type": "code",
   "execution_count": 25,
   "id": "d509de08-6fdd-4868-a777-770b0507b0fd",
   "metadata": {},
   "outputs": [
    {
     "data": {
      "text/plain": [
       "(1526659, 469)"
      ]
     },
     "execution_count": 25,
     "metadata": {},
     "output_type": "execute_result"
    }
   ],
   "source": [
    "df.shape"
   ]
  },
  {
   "cell_type": "code",
   "execution_count": 26,
   "id": "57424cf8-a617-4eb4-ab46-68bf67404c50",
   "metadata": {},
   "outputs": [
    {
     "data": {
      "text/plain": [
       "(14309, 469)"
      ]
     },
     "execution_count": 26,
     "metadata": {},
     "output_type": "execute_result"
    }
   ],
   "source": [
    "df_week.shape"
   ]
  },
  {
   "cell_type": "code",
   "execution_count": 27,
   "id": "a98f52f9-18cd-4354-b6ab-c80744fabf6c",
   "metadata": {},
   "outputs": [],
   "source": [
    "df2 = df[df.WEEK_NUM == 0]"
   ]
  },
  {
   "cell_type": "code",
   "execution_count": 42,
   "id": "c94a6180-a8ea-44cd-8932-58e0710ae2b5",
   "metadata": {},
   "outputs": [],
   "source": [
    "X2_train, X2_test, y2_train, y2_test = train_test_split(df2[features], df2.target, shuffle=True, random_state=123, test_size=0.2, stratify=df2.target)"
   ]
  },
  {
   "cell_type": "code",
   "execution_count": 43,
   "id": "04d334ee-d239-49d3-b7cc-ecc9d3a18824",
   "metadata": {},
   "outputs": [],
   "source": [
    "for i in range(1,92):\n",
    "    df3 = df[df.WEEK_NUM == i]\n",
    "    X3_train, X3_test, y3_train, y3_test = train_test_split(df3[features], df3.target, shuffle=True, random_state=123, test_size=0.2, stratify=df3.target)\n",
    "    X2_train = pd.concat([X2_train, X3_train])\n",
    "    X2_test = pd.concat([X2_test, X3_test])\n",
    "    y2_train = pd.concat([y2_train, y3_train])\n",
    "    y2_test = pd.concat([y2_test, y3_test])"
   ]
  },
  {
   "cell_type": "code",
   "execution_count": 48,
   "id": "9dd32dae-765c-47b5-89e5-0324d1f397c6",
   "metadata": {},
   "outputs": [],
   "source": [
    "X2_train.to_csv('X2_train.csv', index=False)"
   ]
  },
  {
   "cell_type": "code",
   "execution_count": 49,
   "id": "9f01c67b-626a-4334-882a-5d1a93e888bb",
   "metadata": {},
   "outputs": [],
   "source": [
    "X2_test.to_csv('X2_test.csv', index=False)"
   ]
  },
  {
   "cell_type": "code",
   "execution_count": 50,
   "id": "4ff4adfd-3486-48e5-8960-196556916258",
   "metadata": {},
   "outputs": [],
   "source": [
    "y2_train.to_csv('y2_train.csv', index=False)"
   ]
  },
  {
   "cell_type": "code",
   "execution_count": 51,
   "id": "d29195e8-2c88-41b3-8ff6-768e9ec91354",
   "metadata": {},
   "outputs": [],
   "source": [
    "y2_test.to_csv('y2_test.csv', index=False)"
   ]
  },
  {
   "cell_type": "code",
   "execution_count": 55,
   "id": "41874555-de5f-4891-b253-809b1e17fc84",
   "metadata": {},
   "outputs": [
    {
     "name": "stdout",
     "output_type": "stream",
     "text": [
      "Train Score: 0.7765823634987499, Test Score: 0.7737864291999301, Time: 4.25\n"
     ]
    }
   ],
   "source": [
    "#X3_train, X3_test, y3_train, y3_test = train_test_split(X2_train, y2_train, shuffle=True, random_state=123, test_size=0.5)\n",
    "#y4_train = 2*y3_train - 1\n",
    "#y4_test = 2*y3_test - 1\n",
    "a = time.time()\n",
    "ada_clf.fit(X3_train, y4_train)\n",
    "preds = ada_clf.predict_proba(X3_train)\n",
    "preds2 = ada_clf.predict_proba(X3_test)\n",
    "score = roc_auc_score(y4_train, preds[:,1])\n",
    "score2 = roc_auc_score(y4_test, preds2[:,1])\n",
    "b = time.time()\n",
    "print(f'Train Score: {score}, Test Score: {score2}, Time: {round((b-a)/60,2)}')"
   ]
  },
  {
   "cell_type": "code",
   "execution_count": 69,
   "id": "d389ece5-0976-4bbc-a9e7-5d1f503758b6",
   "metadata": {},
   "outputs": [],
   "source": [
    "INDICES = X2_test.index"
   ]
  },
  {
   "cell_type": "code",
   "execution_count": 70,
   "id": "f955b141-f36b-4583-98de-edc11b0f3c0d",
   "metadata": {},
   "outputs": [],
   "source": [
    "df_for_ada = df.loc[INDICES,:]"
   ]
  },
  {
   "cell_type": "code",
   "execution_count": 71,
   "id": "69154b84-f57f-43b4-9795-8f6c37404b19",
   "metadata": {},
   "outputs": [
    {
     "name": "stdout",
     "output_type": "stream",
     "text": [
      "Week: 0, Score: 0.7341655188246097, Time: 0.01\n",
      "Week: 1, Score: 0.6282501085540599, Time: 0.01\n",
      "Week: 2, Score: 0.6035455749038641, Time: 0.01\n",
      "Week: 3, Score: 0.6191064220461926, Time: 0.01\n"
     ]
    }
   ],
   "source": [
    "auc_list = []\n",
    "\n",
    "for i in range(4):\n",
    "    df_week = df_for_ada[df_for_ada.WEEK_NUM==i]\n",
    "\n",
    "    X = df_week[features]\n",
    "    y = df_week.target\n",
    "\n",
    "    #X_train, X_test, y_train, y_test = train_test_split(X, y, shuffle=True, random_state=123, test_size=0.2, stratify=y)\n",
    "    y2 = 2*y - 1\n",
    "    #y2_test = 2*y_test - 1\n",
    "    a = time.time()\n",
    "    #ada_clf.fit(X, y2)\n",
    "    preds = ada_clf.predict_proba(X)\n",
    "    score = roc_auc_score(y2, preds[:,1])\n",
    "    b = time.time()\n",
    "    print(f'Week: {i}, Score: {score}, Time: {round((b-a)/60,2)}')\n",
    "    auc_list.append(score)"
   ]
  },
  {
   "cell_type": "code",
   "execution_count": null,
   "id": "7540cb97-4fa6-4d82-96e7-e9ebb77d4ce8",
   "metadata": {},
   "outputs": [],
   "source": []
  }
 ],
 "metadata": {
  "kernelspec": {
   "display_name": "Python 3 (ipykernel)",
   "language": "python",
   "name": "python3"
  },
  "language_info": {
   "codemirror_mode": {
    "name": "ipython",
    "version": 3
   },
   "file_extension": ".py",
   "mimetype": "text/x-python",
   "name": "python",
   "nbconvert_exporter": "python",
   "pygments_lexer": "ipython3",
   "version": "3.11.7"
  }
 },
 "nbformat": 4,
 "nbformat_minor": 5
}
