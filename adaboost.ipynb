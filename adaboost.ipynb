{
 "cells": [
  {
   "cell_type": "code",
   "execution_count": 86,
   "id": "d54ba864",
   "metadata": {},
   "outputs": [],
   "source": [
    "import numpy as np\n",
    "import matplotlib.pyplot as plt\n",
    "import pandas as pd\n",
    "\n",
    "from sklearn.model_selection import train_test_split\n",
    "\n",
    "from sklearn.tree import DecisionTreeClassifier\n",
    "from sklearn import tree\n",
    "\n",
    "from sklearn.ensemble import AdaBoostClassifier\n",
    "from sklearn.metrics import roc_auc_score\n",
    "\n",
    "import time"
   ]
  },
  {
   "cell_type": "code",
   "execution_count": 73,
   "id": "73395d32",
   "metadata": {},
   "outputs": [],
   "source": [
    "df = pd.read_csv('master_data_file.csv')"
   ]
  },
  {
   "cell_type": "code",
   "execution_count": 74,
   "id": "f6668897-201b-4dfb-a1d6-261bb130c3a6",
   "metadata": {},
   "outputs": [
    {
     "data": {
      "text/html": [
       "<div>\n",
       "<style scoped>\n",
       "    .dataframe tbody tr th:only-of-type {\n",
       "        vertical-align: middle;\n",
       "    }\n",
       "\n",
       "    .dataframe tbody tr th {\n",
       "        vertical-align: top;\n",
       "    }\n",
       "\n",
       "    .dataframe thead th {\n",
       "        text-align: right;\n",
       "    }\n",
       "</style>\n",
       "<table border=\"1\" class=\"dataframe\">\n",
       "  <thead>\n",
       "    <tr style=\"text-align: right;\">\n",
       "      <th></th>\n",
       "      <th>case_id</th>\n",
       "      <th>date_decision</th>\n",
       "      <th>MONTH</th>\n",
       "      <th>WEEK_NUM</th>\n",
       "      <th>target</th>\n",
       "      <th>actualdpd_943P</th>\n",
       "      <th>actualdpdtolerance_344P</th>\n",
       "      <th>addres_district_368M</th>\n",
       "      <th>addres_role_871L</th>\n",
       "      <th>addres_zip_823M</th>\n",
       "      <th>...</th>\n",
       "      <th>totaldebtoverduevalue_178A</th>\n",
       "      <th>totaldebtoverduevalue_718A</th>\n",
       "      <th>totaloutstanddebtvalue_39A</th>\n",
       "      <th>totaloutstanddebtvalue_668A</th>\n",
       "      <th>totalsettled_863A</th>\n",
       "      <th>totinstallast1m_4525188A</th>\n",
       "      <th>twobodfilling_608L</th>\n",
       "      <th>type_25L</th>\n",
       "      <th>typesuite_864L</th>\n",
       "      <th>validfrom_1069D</th>\n",
       "    </tr>\n",
       "  </thead>\n",
       "  <tbody>\n",
       "    <tr>\n",
       "      <th>0</th>\n",
       "      <td>0</td>\n",
       "      <td>2019-01-03</td>\n",
       "      <td>201901</td>\n",
       "      <td>0</td>\n",
       "      <td>0</td>\n",
       "      <td>-1.0</td>\n",
       "      <td>-1</td>\n",
       "      <td>-1.0</td>\n",
       "      <td>-1.0</td>\n",
       "      <td>-1.0</td>\n",
       "      <td>...</td>\n",
       "      <td>-1.0</td>\n",
       "      <td>-1.0</td>\n",
       "      <td>-1.0</td>\n",
       "      <td>-1.0</td>\n",
       "      <td>1</td>\n",
       "      <td>-1</td>\n",
       "      <td>0</td>\n",
       "      <td>1</td>\n",
       "      <td>-1</td>\n",
       "      <td>-1</td>\n",
       "    </tr>\n",
       "    <tr>\n",
       "      <th>1</th>\n",
       "      <td>1</td>\n",
       "      <td>2019-01-03</td>\n",
       "      <td>201901</td>\n",
       "      <td>0</td>\n",
       "      <td>0</td>\n",
       "      <td>-1.0</td>\n",
       "      <td>-1</td>\n",
       "      <td>-1.0</td>\n",
       "      <td>-1.0</td>\n",
       "      <td>-1.0</td>\n",
       "      <td>...</td>\n",
       "      <td>-1.0</td>\n",
       "      <td>-1.0</td>\n",
       "      <td>-1.0</td>\n",
       "      <td>-1.0</td>\n",
       "      <td>1</td>\n",
       "      <td>-1</td>\n",
       "      <td>0</td>\n",
       "      <td>1</td>\n",
       "      <td>-1</td>\n",
       "      <td>-1</td>\n",
       "    </tr>\n",
       "    <tr>\n",
       "      <th>2</th>\n",
       "      <td>2</td>\n",
       "      <td>2019-01-04</td>\n",
       "      <td>201901</td>\n",
       "      <td>0</td>\n",
       "      <td>0</td>\n",
       "      <td>3.0</td>\n",
       "      <td>-1</td>\n",
       "      <td>-1.0</td>\n",
       "      <td>-1.0</td>\n",
       "      <td>-1.0</td>\n",
       "      <td>...</td>\n",
       "      <td>-1.0</td>\n",
       "      <td>-1.0</td>\n",
       "      <td>-1.0</td>\n",
       "      <td>-1.0</td>\n",
       "      <td>1</td>\n",
       "      <td>-1</td>\n",
       "      <td>0</td>\n",
       "      <td>0</td>\n",
       "      <td>0</td>\n",
       "      <td>-1</td>\n",
       "    </tr>\n",
       "    <tr>\n",
       "      <th>3</th>\n",
       "      <td>3</td>\n",
       "      <td>2019-01-03</td>\n",
       "      <td>201901</td>\n",
       "      <td>0</td>\n",
       "      <td>0</td>\n",
       "      <td>3.0</td>\n",
       "      <td>-1</td>\n",
       "      <td>-1.0</td>\n",
       "      <td>-1.0</td>\n",
       "      <td>-1.0</td>\n",
       "      <td>...</td>\n",
       "      <td>-1.0</td>\n",
       "      <td>-1.0</td>\n",
       "      <td>-1.0</td>\n",
       "      <td>-1.0</td>\n",
       "      <td>1</td>\n",
       "      <td>-1</td>\n",
       "      <td>0</td>\n",
       "      <td>1</td>\n",
       "      <td>0</td>\n",
       "      <td>-1</td>\n",
       "    </tr>\n",
       "    <tr>\n",
       "      <th>4</th>\n",
       "      <td>4</td>\n",
       "      <td>2019-01-04</td>\n",
       "      <td>201901</td>\n",
       "      <td>0</td>\n",
       "      <td>1</td>\n",
       "      <td>3.0</td>\n",
       "      <td>-1</td>\n",
       "      <td>-1.0</td>\n",
       "      <td>-1.0</td>\n",
       "      <td>-1.0</td>\n",
       "      <td>...</td>\n",
       "      <td>-1.0</td>\n",
       "      <td>-1.0</td>\n",
       "      <td>-1.0</td>\n",
       "      <td>-1.0</td>\n",
       "      <td>1</td>\n",
       "      <td>-1</td>\n",
       "      <td>0</td>\n",
       "      <td>1</td>\n",
       "      <td>0</td>\n",
       "      <td>-1</td>\n",
       "    </tr>\n",
       "  </tbody>\n",
       "</table>\n",
       "<p>5 rows × 469 columns</p>\n",
       "</div>"
      ],
      "text/plain": [
       "   case_id date_decision   MONTH  WEEK_NUM  target  actualdpd_943P  \\\n",
       "0        0    2019-01-03  201901         0       0            -1.0   \n",
       "1        1    2019-01-03  201901         0       0            -1.0   \n",
       "2        2    2019-01-04  201901         0       0             3.0   \n",
       "3        3    2019-01-03  201901         0       0             3.0   \n",
       "4        4    2019-01-04  201901         0       1             3.0   \n",
       "\n",
       "   actualdpdtolerance_344P  addres_district_368M  addres_role_871L  \\\n",
       "0                       -1                  -1.0              -1.0   \n",
       "1                       -1                  -1.0              -1.0   \n",
       "2                       -1                  -1.0              -1.0   \n",
       "3                       -1                  -1.0              -1.0   \n",
       "4                       -1                  -1.0              -1.0   \n",
       "\n",
       "   addres_zip_823M  ...  totaldebtoverduevalue_178A  \\\n",
       "0             -1.0  ...                        -1.0   \n",
       "1             -1.0  ...                        -1.0   \n",
       "2             -1.0  ...                        -1.0   \n",
       "3             -1.0  ...                        -1.0   \n",
       "4             -1.0  ...                        -1.0   \n",
       "\n",
       "   totaldebtoverduevalue_718A  totaloutstanddebtvalue_39A  \\\n",
       "0                        -1.0                        -1.0   \n",
       "1                        -1.0                        -1.0   \n",
       "2                        -1.0                        -1.0   \n",
       "3                        -1.0                        -1.0   \n",
       "4                        -1.0                        -1.0   \n",
       "\n",
       "   totaloutstanddebtvalue_668A  totalsettled_863A  totinstallast1m_4525188A  \\\n",
       "0                         -1.0                  1                        -1   \n",
       "1                         -1.0                  1                        -1   \n",
       "2                         -1.0                  1                        -1   \n",
       "3                         -1.0                  1                        -1   \n",
       "4                         -1.0                  1                        -1   \n",
       "\n",
       "   twobodfilling_608L  type_25L  typesuite_864L  validfrom_1069D  \n",
       "0                   0         1              -1               -1  \n",
       "1                   0         1              -1               -1  \n",
       "2                   0         0               0               -1  \n",
       "3                   0         1               0               -1  \n",
       "4                   0         1               0               -1  \n",
       "\n",
       "[5 rows x 469 columns]"
      ]
     },
     "execution_count": 74,
     "metadata": {},
     "output_type": "execute_result"
    }
   ],
   "source": [
    "df.head()"
   ]
  },
  {
   "cell_type": "code",
   "execution_count": 75,
   "id": "16a30e3a-0e60-4d52-9886-ed0d90ded9dc",
   "metadata": {},
   "outputs": [
    {
     "data": {
      "text/plain": [
       "(1526659, 469)"
      ]
     },
     "execution_count": 75,
     "metadata": {},
     "output_type": "execute_result"
    }
   ],
   "source": [
    "df.shape"
   ]
  },
  {
   "cell_type": "code",
   "execution_count": 77,
   "id": "6924829d-40cb-4797-92b3-110f6019beb7",
   "metadata": {},
   "outputs": [],
   "source": [
    "features = df.columns[5:]"
   ]
  },
  {
   "cell_type": "code",
   "execution_count": 78,
   "id": "e9da81a7-afc2-4ead-a47d-2c9b6ec902c6",
   "metadata": {},
   "outputs": [],
   "source": [
    "from sklearn.tree import DecisionTreeClassifier\n",
    "from sklearn import tree"
   ]
  },
  {
   "cell_type": "code",
   "execution_count": 79,
   "id": "c42606b1-99fc-4209-a77c-becdabc89f13",
   "metadata": {},
   "outputs": [],
   "source": [
    "main_feature = []\n",
    "\n",
    "for i in range(92):\n",
    "    clf = DecisionTreeClassifier(max_depth=2, random_state=123)\n",
    "    df_week = df[df.WEEK_NUM == i]\n",
    "    X = df_week[features]\n",
    "    y = df_week.target\n",
    "    X_train, X_test, y_train, y_test = train_test_split(X, y, shuffle=True, random_state=123, test_size=0.1, stratify=y)\n",
    "    clf.fit(X_train, y_train)\n",
    "    main_feature.append(int(tree.export_text(clf).split(' ')[1].split('_')[1]))"
   ]
  },
  {
   "cell_type": "code",
   "execution_count": 80,
   "id": "2dc85ba1-b439-463e-b4f9-2e12f98a2a22",
   "metadata": {},
   "outputs": [],
   "source": [
    "dict_features = {}\n",
    "for i in main_feature:\n",
    "    dict_features[i] = 1 + dict_features.get(i,0)"
   ]
  },
  {
   "cell_type": "code",
   "execution_count": 81,
   "id": "53ee4f30-5f87-4ded-ab18-96be9478ff6c",
   "metadata": {},
   "outputs": [
    {
     "data": {
      "text/plain": [
       "{243: 4,\n",
       " 33: 35,\n",
       " 41: 1,\n",
       " 45: 1,\n",
       " 361: 7,\n",
       " 116: 1,\n",
       " 117: 29,\n",
       " 362: 2,\n",
       " 262: 1,\n",
       " 379: 1,\n",
       " 149: 1,\n",
       " 337: 1,\n",
       " 81: 1,\n",
       " 120: 3,\n",
       " 367: 1,\n",
       " 119: 1,\n",
       " 123: 1,\n",
       " 359: 1}"
      ]
     },
     "execution_count": 81,
     "metadata": {},
     "output_type": "execute_result"
    }
   ],
   "source": [
    "dict_features"
   ]
  },
  {
   "cell_type": "code",
   "execution_count": 82,
   "id": "552ddd2b-a0e2-4fff-9fce-72a8ba96dcea",
   "metadata": {},
   "outputs": [
    {
     "data": {
      "text/plain": [
       "'assignmentdate_4527235D'"
      ]
     },
     "execution_count": 82,
     "metadata": {},
     "output_type": "execute_result"
    }
   ],
   "source": [
    "df_week.columns[33]"
   ]
  },
  {
   "cell_type": "code",
   "execution_count": 83,
   "id": "a22481a0-327e-4c81-8491-d8ffba7f20c2",
   "metadata": {},
   "outputs": [
    {
     "data": {
      "text/plain": [
       "'currdebt_22A'"
      ]
     },
     "execution_count": 83,
     "metadata": {},
     "output_type": "execute_result"
    }
   ],
   "source": [
    "df_week.columns[117]"
   ]
  },
  {
   "cell_type": "code",
   "execution_count": 120,
   "id": "b931bc6a-49ca-4a90-a922-7162dbc0ab2c",
   "metadata": {},
   "outputs": [],
   "source": [
    "ada_clf = AdaBoostClassifier(DecisionTreeClassifier(max_depth=3),\n",
    "                                n_estimators=500,\n",
    "                                algorithm = 'SAMME',\n",
    "                                learning_rate = 0.5,\n",
    "                                random_state=123)"
   ]
  },
  {
   "cell_type": "code",
   "execution_count": 85,
   "id": "1c7fbf5c-ed64-4842-a71a-ba3d2a52735f",
   "metadata": {},
   "outputs": [
    {
     "name": "stdout",
     "output_type": "stream",
     "text": [
      "Week: 0, Score: 0.714367156412611, Time: 0.41\n",
      "Week: 1, Score: 0.733839918946302, Time: 0.57\n",
      "Week: 2, Score: 0.6855399568375784, Time: 0.54\n",
      "Week: 3, Score: 0.7236031442532398, Time: 0.46\n",
      "Week: 4, Score: 0.6960459200660567, Time: 0.4\n"
     ]
    }
   ],
   "source": [
    "auc_list = []\n",
    "\n",
    "for i in range(5):\n",
    "    df_week = df[df.WEEK_NUM==i]\n",
    "\n",
    "    X = df_week[features]\n",
    "    y = df_week.target\n",
    "\n",
    "    X_train, X_test, y_train, y_test = train_test_split(X, y, shuffle=True, random_state=123, test_size=0.2, stratify=y)\n",
    "    y2_train = 2*y_train - 1\n",
    "    y2_test = 2*y_test - 1\n",
    "    a = time.time()\n",
    "    ada_clf.fit(X_train, y2_train)\n",
    "    preds = ada_clf.predict_proba(X_test)\n",
    "    score = roc_auc_score(y2_test, preds[:,1])\n",
    "    b = time.time()\n",
    "    print(f'Week: {i}, Score: {score}, Time: {round((b-a)/60,2)}')\n",
    "    auc_list.append(score)"
   ]
  },
  {
   "cell_type": "code",
   "execution_count": 94,
   "id": "a98f52f9-18cd-4354-b6ab-c80744fabf6c",
   "metadata": {},
   "outputs": [],
   "source": [
    "df2 = df[df.WEEK_NUM == 0]"
   ]
  },
  {
   "cell_type": "code",
   "execution_count": 95,
   "id": "c94a6180-a8ea-44cd-8932-58e0710ae2b5",
   "metadata": {},
   "outputs": [],
   "source": [
    "X2_train, X2_test, y2_train, y2_test = train_test_split(df2[features], df2.target, shuffle=True, random_state=123, test_size=0.2, stratify=df2.target)"
   ]
  },
  {
   "cell_type": "code",
   "execution_count": 96,
   "id": "04d334ee-d239-49d3-b7cc-ecc9d3a18824",
   "metadata": {},
   "outputs": [],
   "source": [
    "for i in range(1,92):\n",
    "    df3 = df[df.WEEK_NUM == i]\n",
    "    X3_train, X3_test, y3_train, y3_test = train_test_split(df3[features], df3.target, shuffle=True, random_state=123, test_size=0.2, stratify=df3.target)\n",
    "    X2_train = pd.concat([X2_train, X3_train])\n",
    "    X2_test = pd.concat([X2_test, X3_test])\n",
    "    y2_train = pd.concat([y2_train, y3_train])\n",
    "    y2_test = pd.concat([y2_test, y3_test])"
   ]
  },
  {
   "cell_type": "code",
   "execution_count": 48,
   "id": "9dd32dae-765c-47b5-89e5-0324d1f397c6",
   "metadata": {},
   "outputs": [],
   "source": [
    "X2_train.to_csv('X2_train.csv', index=False)"
   ]
  },
  {
   "cell_type": "code",
   "execution_count": 49,
   "id": "9f01c67b-626a-4334-882a-5d1a93e888bb",
   "metadata": {},
   "outputs": [],
   "source": [
    "X2_test.to_csv('X2_test.csv', index=False)"
   ]
  },
  {
   "cell_type": "code",
   "execution_count": 50,
   "id": "4ff4adfd-3486-48e5-8960-196556916258",
   "metadata": {},
   "outputs": [],
   "source": [
    "y2_train.to_csv('y2_train.csv', index=False)"
   ]
  },
  {
   "cell_type": "code",
   "execution_count": 51,
   "id": "d29195e8-2c88-41b3-8ff6-768e9ec91354",
   "metadata": {},
   "outputs": [],
   "source": [
    "y2_test.to_csv('y2_test.csv', index=False)"
   ]
  },
  {
   "cell_type": "code",
   "execution_count": 97,
   "id": "727bf76b-e810-4331-bbbe-8f7f797f6358",
   "metadata": {},
   "outputs": [
    {
     "data": {
      "text/plain": [
       "(1221293, 464)"
      ]
     },
     "execution_count": 97,
     "metadata": {},
     "output_type": "execute_result"
    }
   ],
   "source": [
    "X2_train.shape"
   ]
  },
  {
   "cell_type": "code",
   "execution_count": 98,
   "id": "edff791a-facb-4452-95ad-e036111257bc",
   "metadata": {},
   "outputs": [
    {
     "data": {
      "text/plain": [
       "(1221293,)"
      ]
     },
     "execution_count": 98,
     "metadata": {},
     "output_type": "execute_result"
    }
   ],
   "source": [
    "y2_train.shape"
   ]
  },
  {
   "cell_type": "code",
   "execution_count": 99,
   "id": "0e326359-97fa-4c82-9e39-423854c3ba95",
   "metadata": {},
   "outputs": [
    {
     "data": {
      "text/plain": [
       "(305366, 464)"
      ]
     },
     "execution_count": 99,
     "metadata": {},
     "output_type": "execute_result"
    }
   ],
   "source": [
    "X2_test.shape"
   ]
  },
  {
   "cell_type": "code",
   "execution_count": 100,
   "id": "f37287be-680c-4d10-9834-d8731fe2c233",
   "metadata": {},
   "outputs": [
    {
     "data": {
      "text/plain": [
       "(305366,)"
      ]
     },
     "execution_count": 100,
     "metadata": {},
     "output_type": "execute_result"
    }
   ],
   "source": [
    "y2_test.shape"
   ]
  },
  {
   "cell_type": "code",
   "execution_count": 101,
   "id": "99974a52-06bc-4e52-a7be-ff8557fe3f6a",
   "metadata": {},
   "outputs": [
    {
     "data": {
      "text/plain": [
       "(1526659, 469)"
      ]
     },
     "execution_count": 101,
     "metadata": {},
     "output_type": "execute_result"
    }
   ],
   "source": [
    "df.shape"
   ]
  },
  {
   "cell_type": "code",
   "execution_count": 121,
   "id": "41874555-de5f-4891-b253-809b1e17fc84",
   "metadata": {},
   "outputs": [
    {
     "name": "stdout",
     "output_type": "stream",
     "text": [
      "Train Score: 0.8091499669998903, Test Score: 0.8002975120007856, Time: 97.99\n"
     ]
    }
   ],
   "source": [
    "X3_train, X3_test, y3_train, y3_test = train_test_split(X2_train, y2_train, shuffle=True, random_state=123, test_size=0.5)\n",
    "y4_train = 2*y3_train - 1\n",
    "y4_test = 2*y3_test - 1\n",
    "a = time.time()\n",
    "ada_clf.fit(X3_train, y4_train)\n",
    "preds = ada_clf.predict_proba(X3_train)\n",
    "preds2 = ada_clf.predict_proba(X3_test)\n",
    "score = roc_auc_score(y4_train, preds[:,1])\n",
    "score2 = roc_auc_score(y4_test, preds2[:,1])\n",
    "b = time.time()\n",
    "print(f'Train Score: {score}, Test Score: {score2}, Time: {round((b-a)/60,2)}')"
   ]
  },
  {
   "cell_type": "code",
   "execution_count": 69,
   "id": "d389ece5-0976-4bbc-a9e7-5d1f503758b6",
   "metadata": {},
   "outputs": [],
   "source": [
    "INDICES = X2_test.index"
   ]
  },
  {
   "cell_type": "code",
   "execution_count": 70,
   "id": "f955b141-f36b-4583-98de-edc11b0f3c0d",
   "metadata": {},
   "outputs": [],
   "source": [
    "df_for_ada = df.loc[INDICES,:]"
   ]
  },
  {
   "cell_type": "code",
   "execution_count": 122,
   "id": "69154b84-f57f-43b4-9795-8f6c37404b19",
   "metadata": {},
   "outputs": [
    {
     "name": "stdout",
     "output_type": "stream",
     "text": [
      "Week: 0, Score: 0.7698710590756045, Time: 0.02\n",
      "Week: 1, Score: 0.7625155594152554, Time: 0.03\n",
      "Week: 2, Score: 0.7524164320539435, Time: 0.03\n",
      "Week: 3, Score: 0.7722028741388205, Time: 0.02\n",
      "Week: 4, Score: 0.7168972880347686, Time: 0.02\n",
      "Week: 5, Score: 0.7885750787626207, Time: 0.02\n",
      "Week: 6, Score: 0.7892412558329692, Time: 0.02\n",
      "Week: 7, Score: 0.759995076954967, Time: 0.02\n",
      "Week: 8, Score: 0.7814349129616288, Time: 0.02\n",
      "Week: 9, Score: 0.7651197953012329, Time: 0.02\n",
      "Week: 10, Score: 0.8042993714330801, Time: 0.02\n",
      "Week: 11, Score: 0.7833784442394388, Time: 0.02\n",
      "Week: 12, Score: 0.7780607769423558, Time: 0.02\n",
      "Week: 13, Score: 0.7839239994609891, Time: 0.02\n",
      "Week: 14, Score: 0.8285504325186864, Time: 0.02\n",
      "Week: 15, Score: 0.7840197502178332, Time: 0.02\n",
      "Week: 16, Score: 0.799466827229334, Time: 0.02\n",
      "Week: 17, Score: 0.8185530044251221, Time: 0.02\n",
      "Week: 18, Score: 0.7749568439223612, Time: 0.01\n",
      "Week: 19, Score: 0.777557472728405, Time: 0.02\n",
      "Week: 20, Score: 0.8179710144927536, Time: 0.02\n",
      "Week: 21, Score: 0.810397087910246, Time: 0.02\n",
      "Week: 22, Score: 0.8147257526661842, Time: 0.04\n",
      "Week: 23, Score: 0.7962379702537183, Time: 0.05\n",
      "Week: 24, Score: 0.7952177318835938, Time: 0.03\n",
      "Week: 25, Score: 0.768949539374929, Time: 0.03\n",
      "Week: 26, Score: 0.8045058107747555, Time: 0.03\n",
      "Week: 27, Score: 0.8249057948874631, Time: 0.03\n",
      "Week: 28, Score: 0.7982398196309555, Time: 0.03\n",
      "Week: 29, Score: 0.819622278543973, Time: 0.04\n",
      "Week: 30, Score: 0.8195972291355567, Time: 0.03\n",
      "Week: 31, Score: 0.8249246538058126, Time: 0.03\n",
      "Week: 32, Score: 0.8106342722157022, Time: 0.04\n",
      "Week: 33, Score: 0.7981802436217368, Time: 0.04\n",
      "Week: 34, Score: 0.807170807793345, Time: 0.04\n",
      "Week: 35, Score: 0.8170308812968093, Time: 0.04\n",
      "Week: 36, Score: 0.7905125294823188, Time: 0.04\n",
      "Week: 37, Score: 0.8052249842052589, Time: 0.04\n",
      "Week: 38, Score: 0.8214254902700866, Time: 0.04\n",
      "Week: 39, Score: 0.7716053291838557, Time: 0.03\n",
      "Week: 40, Score: 0.7898112766882269, Time: 0.04\n",
      "Week: 41, Score: 0.7836698936778591, Time: 0.03\n",
      "Week: 42, Score: 0.795427059712774, Time: 0.03\n",
      "Week: 43, Score: 0.8002429302577891, Time: 0.03\n",
      "Week: 44, Score: 0.816896559075598, Time: 0.05\n",
      "Week: 45, Score: 0.7681068872987478, Time: 0.05\n",
      "Week: 46, Score: 0.7877680974995241, Time: 0.04\n",
      "Week: 47, Score: 0.8174709363341819, Time: 0.06\n",
      "Week: 48, Score: 0.7826097224335997, Time: 0.03\n",
      "Week: 49, Score: 0.7975822149791556, Time: 0.06\n",
      "Week: 50, Score: 0.792021587422882, Time: 0.05\n",
      "Week: 51, Score: 0.7998507508996422, Time: 0.06\n",
      "Week: 52, Score: 0.8066725354982802, Time: 0.04\n",
      "Week: 53, Score: 0.7799563250662923, Time: 0.03\n",
      "Week: 54, Score: 0.773059259402196, Time: 0.03\n",
      "Week: 55, Score: 0.7761169548939204, Time: 0.03\n",
      "Week: 56, Score: 0.796100845183743, Time: 0.02\n",
      "Week: 57, Score: 0.795184683019023, Time: 0.03\n",
      "Week: 58, Score: 0.7699009448676624, Time: 0.02\n",
      "Week: 59, Score: 0.7744802369959167, Time: 0.03\n",
      "Week: 60, Score: 0.7724135746319654, Time: 0.02\n",
      "Week: 61, Score: 0.7763722753784446, Time: 0.02\n",
      "Week: 62, Score: 0.7889267356377883, Time: 0.02\n",
      "Week: 63, Score: 0.7850107858243451, Time: 0.02\n",
      "Week: 64, Score: 0.7951319095477387, Time: 0.01\n",
      "Week: 65, Score: 0.8489922284703355, Time: 0.01\n",
      "Week: 66, Score: 0.6484304932735426, Time: 0.0\n",
      "Week: 67, Score: 0.9062870699881377, Time: 0.0\n",
      "Week: 68, Score: 0.7919254658385093, Time: 0.0\n",
      "Week: 69, Score: 0.8161290322580644, Time: 0.0\n",
      "Week: 70, Score: 0.8545576407506703, Time: 0.0\n",
      "Week: 71, Score: 0.8102488479262673, Time: 0.01\n",
      "Week: 72, Score: 0.8024263431542461, Time: 0.01\n",
      "Week: 73, Score: 0.8208978328173374, Time: 0.01\n",
      "Week: 74, Score: 0.8033459053736136, Time: 0.01\n",
      "Week: 75, Score: 0.8321318959069456, Time: 0.02\n",
      "Week: 76, Score: 0.8313647137176549, Time: 0.01\n",
      "Week: 77, Score: 0.8160188576855243, Time: 0.01\n",
      "Week: 78, Score: 0.8412263359693266, Time: 0.01\n",
      "Week: 79, Score: 0.8068406840684069, Time: 0.01\n",
      "Week: 80, Score: 0.8216761827079935, Time: 0.01\n",
      "Week: 81, Score: 0.7829700108394557, Time: 0.01\n",
      "Week: 82, Score: 0.8468033301916431, Time: 0.01\n",
      "Week: 83, Score: 0.772725219119906, Time: 0.01\n",
      "Week: 84, Score: 0.7770523072408481, Time: 0.01\n",
      "Week: 85, Score: 0.851897414089869, Time: 0.02\n",
      "Week: 86, Score: 0.8626802048488795, Time: 0.02\n",
      "Week: 87, Score: 0.8246703941464761, Time: 0.03\n",
      "Week: 88, Score: 0.8570791858564849, Time: 0.02\n",
      "Week: 89, Score: 0.8623813684798174, Time: 0.02\n",
      "Week: 90, Score: 0.8142958244869074, Time: 0.01\n",
      "Week: 91, Score: 0.8584773015188005, Time: 0.02\n"
     ]
    }
   ],
   "source": [
    "auc_list = []\n",
    "\n",
    "for i in range(92):\n",
    "    df_week = df_for_ada[df_for_ada.WEEK_NUM==i]\n",
    "\n",
    "    X = df_week[features]\n",
    "    y = df_week.target\n",
    "\n",
    "    #X_train, X_test, y_train, y_test = train_test_split(X, y, shuffle=True, random_state=123, test_size=0.2, stratify=y)\n",
    "    y2 = 2*y - 1\n",
    "    #y2_test = 2*y_test - 1\n",
    "    a = time.time()\n",
    "    #ada_clf.fit(X, y2)\n",
    "    preds = ada_clf.predict_proba(X)\n",
    "    score = roc_auc_score(y2, preds[:,1])\n",
    "    b = time.time()\n",
    "    print(f'Week: {i}, Score: {score}, Time: {round((b-a)/60,2)}')\n",
    "    auc_list.append(score)"
   ]
  },
  {
   "cell_type": "code",
   "execution_count": 123,
   "id": "7540cb97-4fa6-4d82-96e7-e9ebb77d4ce8",
   "metadata": {},
   "outputs": [
    {
     "data": {
      "text/plain": [
       "[<matplotlib.lines.Line2D at 0x1cc8fe44650>]"
      ]
     },
     "execution_count": 123,
     "metadata": {},
     "output_type": "execute_result"
    },
    {
     "data": {
      "image/png": "[encoded data removed]",
      "text/plain": [
       "<Figure size 640x480 with 1 Axes>"
      ]
     },
     "metadata": {},
     "output_type": "display_data"
    }
   ],
   "source": [
    "plt.plot(auc_list)"
   ]
  },
  {
   "cell_type": "code",
   "execution_count": 124,
   "id": "80bc2ef8-91b3-4906-98ff-542c6ca01a77",
   "metadata": {},
   "outputs": [],
   "source": [
    "gini = 2*np.array(auc_list) - 1"
   ]
  },
  {
   "cell_type": "code",
   "execution_count": 125,
   "id": "ffada056-4971-4f0a-bacf-2c6bd3614ba4",
   "metadata": {},
   "outputs": [],
   "source": [
    "from sklearn.linear_model import LinearRegression"
   ]
  },
  {
   "cell_type": "code",
   "execution_count": 126,
   "id": "6f17bc76-4cf2-4e6a-ab2a-a5be44f10601",
   "metadata": {},
   "outputs": [],
   "source": [
    "linear = LinearRegression()"
   ]
  },
  {
   "cell_type": "code",
   "execution_count": 127,
   "id": "53364355-4a08-4d28-881a-7b640efe0243",
   "metadata": {},
   "outputs": [
    {
     "data": {
      "text/html": [
       "<style>#sk-container-id-2 {color: black;background-color: white;}#sk-container-id-2 pre{padding: 0;}#sk-container-id-2 div.sk-toggleable {background-color: white;}#sk-container-id-2 label.sk-toggleable__label {cursor: pointer;display: block;width: 100%;margin-bottom: 0;padding: 0.3em;box-sizing: border-box;text-align: center;}#sk-container-id-2 label.sk-toggleable__label-arrow:before {content: \"▸\";float: left;margin-right: 0.25em;color: #696969;}#sk-container-id-2 label.sk-toggleable__label-arrow:hover:before {color: black;}#sk-container-id-2 div.sk-estimator:hover label.sk-toggleable__label-arrow:before {color: black;}#sk-container-id-2 div.sk-toggleable__content {max-height: 0;max-width: 0;overflow: hidden;text-align: left;background-color: #f0f8ff;}#sk-container-id-2 div.sk-toggleable__content pre {margin: 0.2em;color: black;border-radius: 0.25em;background-color: #f0f8ff;}#sk-container-id-2 input.sk-toggleable__control:checked~div.sk-toggleable__content {max-height: 200px;max-width: 100%;overflow: auto;}#sk-container-id-2 input.sk-toggleable__control:checked~label.sk-toggleable__label-arrow:before {content: \"▾\";}#sk-container-id-2 div.sk-estimator input.sk-toggleable__control:checked~label.sk-toggleable__label {background-color: #d4ebff;}#sk-container-id-2 div.sk-label input.sk-toggleable__control:checked~label.sk-toggleable__label {background-color: #d4ebff;}#sk-container-id-2 input.sk-hidden--visually {border: 0;clip: rect(1px 1px 1px 1px);clip: rect(1px, 1px, 1px, 1px);height: 1px;margin: -1px;overflow: hidden;padding: 0;position: absolute;width: 1px;}#sk-container-id-2 div.sk-estimator {font-family: monospace;background-color: #f0f8ff;border: 1px dotted black;border-radius: 0.25em;box-sizing: border-box;margin-bottom: 0.5em;}#sk-container-id-2 div.sk-estimator:hover {background-color: #d4ebff;}#sk-container-id-2 div.sk-parallel-item::after {content: \"\";width: 100%;border-bottom: 1px solid gray;flex-grow: 1;}#sk-container-id-2 div.sk-label:hover label.sk-toggleable__label {background-color: #d4ebff;}#sk-container-id-2 div.sk-serial::before {content: \"\";position: absolute;border-left: 1px solid gray;box-sizing: border-box;top: 0;bottom: 0;left: 50%;z-index: 0;}#sk-container-id-2 div.sk-serial {display: flex;flex-direction: column;align-items: center;background-color: white;padding-right: 0.2em;padding-left: 0.2em;position: relative;}#sk-container-id-2 div.sk-item {position: relative;z-index: 1;}#sk-container-id-2 div.sk-parallel {display: flex;align-items: stretch;justify-content: center;background-color: white;position: relative;}#sk-container-id-2 div.sk-item::before, #sk-container-id-2 div.sk-parallel-item::before {content: \"\";position: absolute;border-left: 1px solid gray;box-sizing: border-box;top: 0;bottom: 0;left: 50%;z-index: -1;}#sk-container-id-2 div.sk-parallel-item {display: flex;flex-direction: column;z-index: 1;position: relative;background-color: white;}#sk-container-id-2 div.sk-parallel-item:first-child::after {align-self: flex-end;width: 50%;}#sk-container-id-2 div.sk-parallel-item:last-child::after {align-self: flex-start;width: 50%;}#sk-container-id-2 div.sk-parallel-item:only-child::after {width: 0;}#sk-container-id-2 div.sk-dashed-wrapped {border: 1px dashed gray;margin: 0 0.4em 0.5em 0.4em;box-sizing: border-box;padding-bottom: 0.4em;background-color: white;}#sk-container-id-2 div.sk-label label {font-family: monospace;font-weight: bold;display: inline-block;line-height: 1.2em;}#sk-container-id-2 div.sk-label-container {text-align: center;}#sk-container-id-2 div.sk-container {/* jupyter's `normalize.less` sets `[hidden] { display: none; }` but bootstrap.min.css set `[hidden] { display: none !important; }` so we also need the `!important` here to be able to override the default hidden behavior on the sphinx rendered scikit-learn.org. See: https://github.com/scikit-learn/scikit-learn/issues/21755 */display: inline-block !important;position: relative;}#sk-container-id-2 div.sk-text-repr-fallback {display: none;}</style><div id=\"sk-container-id-2\" class=\"sk-top-container\"><div class=\"sk-text-repr-fallback\"><pre>LinearRegression()</pre><b>In a Jupyter environment, please rerun this cell to show the HTML representation or trust the notebook. <br />On GitHub, the HTML representation is unable to render, please try loading this page with nbviewer.org.</b></div><div class=\"sk-container\" hidden><div class=\"sk-item\"><div class=\"sk-estimator sk-toggleable\"><input class=\"sk-toggleable__control sk-hidden--visually\" id=\"sk-estimator-id-2\" type=\"checkbox\" checked><label for=\"sk-estimator-id-2\" class=\"sk-toggleable__label sk-toggleable__label-arrow\">LinearRegression</label><div class=\"sk-toggleable__content\"><pre>LinearRegression()</pre></div></div></div></div></div>"
      ],
      "text/plain": [
       "LinearRegression()"
      ]
     },
     "execution_count": 127,
     "metadata": {},
     "output_type": "execute_result"
    }
   ],
   "source": [
    "linear.fit(np.arange(92).reshape(-1,1), gini)"
   ]
  },
  {
   "cell_type": "code",
   "execution_count": 128,
   "id": "c4b9fdf9-d6f1-4317-9539-3cb1a94c97bd",
   "metadata": {},
   "outputs": [],
   "source": [
    "a = linear.coef_\n",
    "b = linear.intercept_"
   ]
  },
  {
   "cell_type": "code",
   "execution_count": 129,
   "id": "2209488f-303c-4262-b7f3-2b12a6a38e64",
   "metadata": {},
   "outputs": [
    {
     "data": {
      "text/plain": [
       "[<matplotlib.lines.Line2D at 0x1cc913bf550>]"
      ]
     },
     "execution_count": 129,
     "metadata": {},
     "output_type": "execute_result"
    },
    {
     "data": {
      "image/png": "[encoded data removed]",
      "text/plain": [
       "<Figure size 640x480 with 1 Axes>"
      ]
     },
     "metadata": {},
     "output_type": "display_data"
    }
   ],
   "source": [
    "plt.plot(gini)\n",
    "plt.plot(m*np.arange(92)+b, color='red')"
   ]
  },
  {
   "cell_type": "code",
   "execution_count": 130,
   "id": "73a52f57-21dc-4e3e-af96-8a9305267c70",
   "metadata": {},
   "outputs": [
    {
     "data": {
      "text/plain": [
       "0.5697651312748426"
      ]
     },
     "execution_count": 130,
     "metadata": {},
     "output_type": "execute_result"
    }
   ],
   "source": [
    "gini.mean() + 88.0*min(0,a)-0.5*(gini-(m*np.arange(92)+b)).std()"
   ]
  },
  {
   "cell_type": "code",
   "execution_count": null,
   "id": "589484d7-1353-4e4b-a421-70e10921066b",
   "metadata": {},
   "outputs": [],
   "source": []
  }
 ],
 "metadata": {
  "kernelspec": {
   "display_name": "Python 3 (ipykernel)",
   "language": "python",
   "name": "python3"
  },
  "language_info": {
   "codemirror_mode": {
    "name": "ipython",
    "version": 3
   },
   "file_extension": ".py",
   "mimetype": "text/x-python",
   "name": "python",
   "nbconvert_exporter": "python",
   "pygments_lexer": "ipython3",
   "version": "3.11.7"
  }
 },
 "nbformat": 4,
 "nbformat_minor": 5
}
